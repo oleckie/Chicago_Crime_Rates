{
 "cells": [
  {
   "cell_type": "code",
   "execution_count": 1,
   "id": "05539f24-9ec7-47f4-bb57-13d4d5ac5b62",
   "metadata": {
    "pycharm": {
     "name": "#%%\n"
    }
   },
   "outputs": [],
   "source": [
    "%matplotlib notebook\n",
    "%matplotlib inline\n",
    "import pandas as pd\n",
    "import os\n",
    "import csv\n",
    "import numpy as np\n",
    "import matplotlib.pyplot as plt\n",
    "\n",
    "primary_type = []\n"
   ]
  },
  {
   "cell_type": "code",
   "execution_count": 2,
   "id": "955a3a36-4a29-470a-8a0d-5ba3323d3911",
   "metadata": {
    "pycharm": {
     "name": "#%%\n"
    }
   },
   "outputs": [
    {
     "data": {
      "text/html": [
       "<div>\n",
       "<style scoped>\n",
       "    .dataframe tbody tr th:only-of-type {\n",
       "        vertical-align: middle;\n",
       "    }\n",
       "\n",
       "    .dataframe tbody tr th {\n",
       "        vertical-align: top;\n",
       "    }\n",
       "\n",
       "    .dataframe thead th {\n",
       "        text-align: right;\n",
       "    }\n",
       "</style>\n",
       "<table border=\"1\" class=\"dataframe\">\n",
       "  <thead>\n",
       "    <tr style=\"text-align: right;\">\n",
       "      <th></th>\n",
       "      <th>ID</th>\n",
       "      <th>Case Number</th>\n",
       "      <th>Date</th>\n",
       "      <th>Block</th>\n",
       "      <th>IUCR</th>\n",
       "      <th>Primary Type</th>\n",
       "      <th>Description</th>\n",
       "      <th>Location Description</th>\n",
       "      <th>Arrest</th>\n",
       "      <th>Domestic</th>\n",
       "      <th>...</th>\n",
       "      <th>Ward</th>\n",
       "      <th>Community Area</th>\n",
       "      <th>FBI Code</th>\n",
       "      <th>X Coordinate</th>\n",
       "      <th>Y Coordinate</th>\n",
       "      <th>Year</th>\n",
       "      <th>Updated On</th>\n",
       "      <th>Latitude</th>\n",
       "      <th>Longitude</th>\n",
       "      <th>Location</th>\n",
       "    </tr>\n",
       "  </thead>\n",
       "  <tbody>\n",
       "    <tr>\n",
       "      <th>0</th>\n",
       "      <td>12016034</td>\n",
       "      <td>JD193556</td>\n",
       "      <td>01/01/2020 12:00:00 AM</td>\n",
       "      <td>018XX N WINNEBAGO AVE</td>\n",
       "      <td>1153</td>\n",
       "      <td>DECEPTIVE PRACTICE</td>\n",
       "      <td>FINANCIAL IDENTITY THEFT OVER $ 300</td>\n",
       "      <td>APARTMENT</td>\n",
       "      <td>False</td>\n",
       "      <td>False</td>\n",
       "      <td>...</td>\n",
       "      <td>32.0</td>\n",
       "      <td>22.0</td>\n",
       "      <td>11</td>\n",
       "      <td>1160263.0</td>\n",
       "      <td>1912391.0</td>\n",
       "      <td>2020</td>\n",
       "      <td>03/26/2020 03:45:12 PM</td>\n",
       "      <td>41.915306</td>\n",
       "      <td>-87.686639</td>\n",
       "      <td>(41.915306069, -87.686639247)</td>\n",
       "    </tr>\n",
       "    <tr>\n",
       "      <th>1</th>\n",
       "      <td>12220321</td>\n",
       "      <td>JD430436</td>\n",
       "      <td>01/01/2020 12:00:00 AM</td>\n",
       "      <td>091XX S DREXEL AVE</td>\n",
       "      <td>1752</td>\n",
       "      <td>OFFENSE INVOLVING CHILDREN</td>\n",
       "      <td>AGGRAVATED CRIMINAL SEXUAL ABUSE BY FAMILY MEMBER</td>\n",
       "      <td>RESIDENCE</td>\n",
       "      <td>False</td>\n",
       "      <td>True</td>\n",
       "      <td>...</td>\n",
       "      <td>8.0</td>\n",
       "      <td>47.0</td>\n",
       "      <td>17</td>\n",
       "      <td>1184157.0</td>\n",
       "      <td>1844395.0</td>\n",
       "      <td>2020</td>\n",
       "      <td>12/19/2020 03:45:59 PM</td>\n",
       "      <td>41.728192</td>\n",
       "      <td>-87.600985</td>\n",
       "      <td>(41.728192429, -87.600985433)</td>\n",
       "    </tr>\n",
       "    <tr>\n",
       "      <th>2</th>\n",
       "      <td>12013828</td>\n",
       "      <td>JD191019</td>\n",
       "      <td>01/01/2020 12:00:00 AM</td>\n",
       "      <td>044XX S LAVERGNE AVE</td>\n",
       "      <td>0281</td>\n",
       "      <td>CRIMINAL SEXUAL ASSAULT</td>\n",
       "      <td>NON-AGGRAVATED</td>\n",
       "      <td>APARTMENT</td>\n",
       "      <td>False</td>\n",
       "      <td>False</td>\n",
       "      <td>...</td>\n",
       "      <td>22.0</td>\n",
       "      <td>56.0</td>\n",
       "      <td>02</td>\n",
       "      <td>1143770.0</td>\n",
       "      <td>1874726.0</td>\n",
       "      <td>2020</td>\n",
       "      <td>03/28/2020 03:47:02 PM</td>\n",
       "      <td>41.812274</td>\n",
       "      <td>-87.748177</td>\n",
       "      <td>(41.81227369, -87.748176594)</td>\n",
       "    </tr>\n",
       "    <tr>\n",
       "      <th>3</th>\n",
       "      <td>12019692</td>\n",
       "      <td>JD197444</td>\n",
       "      <td>01/01/2020 12:00:00 AM</td>\n",
       "      <td>032XX N LINCOLN AVE</td>\n",
       "      <td>1153</td>\n",
       "      <td>DECEPTIVE PRACTICE</td>\n",
       "      <td>FINANCIAL IDENTITY THEFT OVER $ 300</td>\n",
       "      <td>APARTMENT</td>\n",
       "      <td>False</td>\n",
       "      <td>False</td>\n",
       "      <td>...</td>\n",
       "      <td>47.0</td>\n",
       "      <td>6.0</td>\n",
       "      <td>11</td>\n",
       "      <td>1164983.0</td>\n",
       "      <td>1921507.0</td>\n",
       "      <td>2020</td>\n",
       "      <td>04/01/2020 03:50:17 PM</td>\n",
       "      <td>41.940222</td>\n",
       "      <td>-87.669039</td>\n",
       "      <td>(41.940221932, -87.669039008)</td>\n",
       "    </tr>\n",
       "    <tr>\n",
       "      <th>4</th>\n",
       "      <td>12036792</td>\n",
       "      <td>JD216459</td>\n",
       "      <td>01/01/2020 12:00:00 AM</td>\n",
       "      <td>072XX S WHIPPLE ST</td>\n",
       "      <td>1154</td>\n",
       "      <td>DECEPTIVE PRACTICE</td>\n",
       "      <td>FINANCIAL IDENTITY THEFT $300 AND UNDER</td>\n",
       "      <td>RESIDENCE</td>\n",
       "      <td>False</td>\n",
       "      <td>False</td>\n",
       "      <td>...</td>\n",
       "      <td>18.0</td>\n",
       "      <td>66.0</td>\n",
       "      <td>11</td>\n",
       "      <td>1157290.0</td>\n",
       "      <td>1856526.0</td>\n",
       "      <td>2020</td>\n",
       "      <td>04/29/2020 03:53:17 PM</td>\n",
       "      <td>41.762067</td>\n",
       "      <td>-87.699077</td>\n",
       "      <td>(41.762066981, -87.699077348)</td>\n",
       "    </tr>\n",
       "  </tbody>\n",
       "</table>\n",
       "<p>5 rows × 22 columns</p>\n",
       "</div>"
      ],
      "text/plain": [
       "         ID Case Number                    Date                  Block  IUCR  \\\n",
       "0  12016034    JD193556  01/01/2020 12:00:00 AM  018XX N WINNEBAGO AVE  1153   \n",
       "1  12220321    JD430436  01/01/2020 12:00:00 AM     091XX S DREXEL AVE  1752   \n",
       "2  12013828    JD191019  01/01/2020 12:00:00 AM   044XX S LAVERGNE AVE  0281   \n",
       "3  12019692    JD197444  01/01/2020 12:00:00 AM    032XX N LINCOLN AVE  1153   \n",
       "4  12036792    JD216459  01/01/2020 12:00:00 AM     072XX S WHIPPLE ST  1154   \n",
       "\n",
       "                 Primary Type  \\\n",
       "0          DECEPTIVE PRACTICE   \n",
       "1  OFFENSE INVOLVING CHILDREN   \n",
       "2     CRIMINAL SEXUAL ASSAULT   \n",
       "3          DECEPTIVE PRACTICE   \n",
       "4          DECEPTIVE PRACTICE   \n",
       "\n",
       "                                         Description Location Description  \\\n",
       "0                FINANCIAL IDENTITY THEFT OVER $ 300            APARTMENT   \n",
       "1  AGGRAVATED CRIMINAL SEXUAL ABUSE BY FAMILY MEMBER            RESIDENCE   \n",
       "2                                     NON-AGGRAVATED            APARTMENT   \n",
       "3                FINANCIAL IDENTITY THEFT OVER $ 300            APARTMENT   \n",
       "4            FINANCIAL IDENTITY THEFT $300 AND UNDER            RESIDENCE   \n",
       "\n",
       "   Arrest  Domestic  ...  Ward  Community Area  FBI Code  X Coordinate  \\\n",
       "0   False     False  ...  32.0            22.0        11     1160263.0   \n",
       "1   False      True  ...   8.0            47.0        17     1184157.0   \n",
       "2   False     False  ...  22.0            56.0        02     1143770.0   \n",
       "3   False     False  ...  47.0             6.0        11     1164983.0   \n",
       "4   False     False  ...  18.0            66.0        11     1157290.0   \n",
       "\n",
       "  Y Coordinate  Year              Updated On   Latitude  Longitude  \\\n",
       "0    1912391.0  2020  03/26/2020 03:45:12 PM  41.915306 -87.686639   \n",
       "1    1844395.0  2020  12/19/2020 03:45:59 PM  41.728192 -87.600985   \n",
       "2    1874726.0  2020  03/28/2020 03:47:02 PM  41.812274 -87.748177   \n",
       "3    1921507.0  2020  04/01/2020 03:50:17 PM  41.940222 -87.669039   \n",
       "4    1856526.0  2020  04/29/2020 03:53:17 PM  41.762067 -87.699077   \n",
       "\n",
       "                        Location  \n",
       "0  (41.915306069, -87.686639247)  \n",
       "1  (41.728192429, -87.600985433)  \n",
       "2   (41.81227369, -87.748176594)  \n",
       "3  (41.940221932, -87.669039008)  \n",
       "4  (41.762066981, -87.699077348)  \n",
       "\n",
       "[5 rows x 22 columns]"
      ]
     },
     "execution_count": 2,
     "metadata": {},
     "output_type": "execute_result"
    }
   ],
   "source": [
    "#establishing path to the csv file\n",
    "csvpath = os.path.join(\"Crimes_-_2001_to_Present-2.csv\")\n",
    "\n",
    "#creating DataFrame of csv data\n",
    "crime_df = pd.read_csv(csvpath)\n",
    "\n",
    "#printing DataFrame info\n",
    "crime_df.head()"
   ]
  },
  {
   "cell_type": "markdown",
   "id": "2580c4c3-e0cb-4638-bea6-4d150d977e8f",
   "metadata": {
    "pycharm": {
     "name": "#%% md\n"
    }
   },
   "source": [
    "Find data with incomplete rows."
   ]
  },
  {
   "cell_type": "code",
   "execution_count": 3,
   "id": "58ac2a58-2df4-4631-898c-cd9226362ec2",
   "metadata": {
    "pycharm": {
     "name": "#%%\n"
    }
   },
   "outputs": [
    {
     "data": {
      "text/plain": [
       "ID                      418753\n",
       "Case Number             418753\n",
       "Date                    418753\n",
       "Block                   418753\n",
       "IUCR                    418753\n",
       "Primary Type            418753\n",
       "Description             418753\n",
       "Location Description    416704\n",
       "Arrest                  418753\n",
       "Domestic                418753\n",
       "Beat                    418753\n",
       "District                418753\n",
       "Ward                    418733\n",
       "Community Area          418752\n",
       "FBI Code                418753\n",
       "X Coordinate            411430\n",
       "Y Coordinate            411430\n",
       "Year                    418753\n",
       "Updated On              418753\n",
       "Latitude                411430\n",
       "Longitude               411430\n",
       "Location                411430\n",
       "dtype: int64"
      ]
     },
     "execution_count": 3,
     "metadata": {},
     "output_type": "execute_result"
    }
   ],
   "source": [
    "crime_df.count()"
   ]
  },
  {
   "cell_type": "code",
   "execution_count": 4,
   "id": "9a3d720b-d1f5-47c5-a689-4abe781b0ca3",
   "metadata": {
    "pycharm": {
     "name": "#%%\n"
    }
   },
   "outputs": [
    {
     "data": {
      "text/plain": [
       "ID                      409763\n",
       "Case Number             409763\n",
       "Date                    409763\n",
       "Block                   409763\n",
       "IUCR                    409763\n",
       "Primary Type            409763\n",
       "Description             409763\n",
       "Location Description    409763\n",
       "Arrest                  409763\n",
       "Domestic                409763\n",
       "Beat                    409763\n",
       "District                409763\n",
       "Ward                    409763\n",
       "Community Area          409763\n",
       "FBI Code                409763\n",
       "X Coordinate            409763\n",
       "Y Coordinate            409763\n",
       "Year                    409763\n",
       "Updated On              409763\n",
       "Latitude                409763\n",
       "Longitude               409763\n",
       "Location                409763\n",
       "dtype: int64"
      ]
     },
     "execution_count": 4,
     "metadata": {},
     "output_type": "execute_result"
    }
   ],
   "source": [
    "#drop all rows with missing information.\n",
    "crime_df = crime_df.dropna(how='any')\n",
    "\n",
    "#confirm new list\n",
    "crime_df.count()"
   ]
  },
  {
   "cell_type": "markdown",
   "id": "0406bea1-983f-4dcc-ad58-a283cc81c7dd",
   "metadata": {
    "pycharm": {
     "name": "#%% md\n"
    }
   },
   "source": [
    "Number of each type of crime."
   ]
  },
  {
   "cell_type": "code",
   "execution_count": 5,
   "id": "45f424a7-67fa-4e0c-a999-a33a4a24b6b6",
   "metadata": {
    "pycharm": {
     "name": "#%%\n"
    }
   },
   "outputs": [
    {
     "data": {
      "text/plain": [
       "BATTERY                              81731\n",
       "THEFT                                79486\n",
       "CRIMINAL DAMAGE                      49541\n",
       "ASSAULT                              38462\n",
       "DECEPTIVE PRACTICE                   30941\n",
       "OTHER OFFENSE                        26034\n",
       "MOTOR VEHICLE THEFT                  20385\n",
       "WEAPONS VIOLATION                    17361\n",
       "ROBBERY                              15749\n",
       "BURGLARY                             15317\n",
       "NARCOTICS                            11358\n",
       "CRIMINAL TRESPASS                     7528\n",
       "OFFENSE INVOLVING CHILDREN            3629\n",
       "CRIMINAL SEXUAL ASSAULT               2487\n",
       "SEX OFFENSE                           1914\n",
       "PUBLIC PEACE VIOLATION                1861\n",
       "HOMICIDE                              1601\n",
       "ARSON                                 1111\n",
       "INTERFERENCE WITH PUBLIC OFFICER       968\n",
       "STALKING                               552\n",
       "PROSTITUTION                           370\n",
       "LIQUOR LAW VIOLATION                   323\n",
       "CONCEALED CARRY LICENSE VIOLATION      317\n",
       "INTIMIDATION                           278\n",
       "KIDNAPPING                             205\n",
       "OBSCENITY                               97\n",
       "CRIM SEXUAL ASSAULT                     75\n",
       "GAMBLING                                38\n",
       "HUMAN TRAFFICKING                       17\n",
       "PUBLIC INDECENCY                        13\n",
       "OTHER NARCOTIC VIOLATION                 8\n",
       "NON-CRIMINAL                             5\n",
       "RITUALISM                                1\n",
       "Name: Primary Type, dtype: int64"
      ]
     },
     "execution_count": 5,
     "metadata": {},
     "output_type": "execute_result"
    }
   ],
   "source": [
    "crime_df[\"Primary Type\"].value_counts()"
   ]
  },
  {
   "cell_type": "markdown",
   "id": "c6b4744d-d19b-403e-a145-708bd7083930",
   "metadata": {
    "pycharm": {
     "name": "#%% md\n"
    }
   },
   "source": [
    "Number of each type of crime."
   ]
  },
  {
   "cell_type": "code",
   "execution_count": 6,
   "id": "7d54f8d0-9d7b-49d7-83e7-f6d39dd1bdcc",
   "metadata": {
    "pycharm": {
     "name": "#%%\n"
    }
   },
   "outputs": [
    {
     "data": {
      "text/plain": [
       "Primary Type\n",
       "ARSON                                 1111\n",
       "ASSAULT                              38462\n",
       "BATTERY                              81731\n",
       "BURGLARY                             15317\n",
       "CONCEALED CARRY LICENSE VIOLATION      317\n",
       "CRIM SEXUAL ASSAULT                     75\n",
       "CRIMINAL DAMAGE                      49541\n",
       "CRIMINAL SEXUAL ASSAULT               2487\n",
       "CRIMINAL TRESPASS                     7528\n",
       "DECEPTIVE PRACTICE                   30941\n",
       "GAMBLING                                38\n",
       "HOMICIDE                              1601\n",
       "HUMAN TRAFFICKING                       17\n",
       "INTERFERENCE WITH PUBLIC OFFICER       968\n",
       "INTIMIDATION                           278\n",
       "KIDNAPPING                             205\n",
       "LIQUOR LAW VIOLATION                   323\n",
       "MOTOR VEHICLE THEFT                  20385\n",
       "NARCOTICS                            11358\n",
       "NON-CRIMINAL                             5\n",
       "OBSCENITY                               97\n",
       "OFFENSE INVOLVING CHILDREN            3629\n",
       "OTHER NARCOTIC VIOLATION                 8\n",
       "OTHER OFFENSE                        26034\n",
       "PROSTITUTION                           370\n",
       "PUBLIC INDECENCY                        13\n",
       "PUBLIC PEACE VIOLATION                1861\n",
       "RITUALISM                                1\n",
       "ROBBERY                              15749\n",
       "SEX OFFENSE                           1914\n",
       "STALKING                               552\n",
       "THEFT                                79486\n",
       "WEAPONS VIOLATION                    17361\n",
       "Name: Primary Type, dtype: int64"
      ]
     },
     "execution_count": 6,
     "metadata": {},
     "output_type": "execute_result"
    }
   ],
   "source": [
    "crime_type = crime_df.groupby(\"Primary Type\")\n",
    "count_crime_types = crime_type[\"Primary Type\"].count()\n",
    "count_crime_types"
   ]
  },
  {
   "cell_type": "code",
   "execution_count": 16,
   "id": "47807d25-fbb4-4cc3-9338-101db90a96d4",
   "metadata": {
    "pycharm": {
     "name": "#%%\n"
    }
   },
   "outputs": [
    {
     "name": "stdout",
     "output_type": "stream",
     "text": [
      "                     Crime Type\n",
      "Primary Type                   \n",
      "BATTERY                   81731\n",
      "THEFT                     79486\n",
      "CRIMINAL DAMAGE           49541\n",
      "ASSAULT                   38462\n",
      "DECEPTIVE PRACTICE        30941\n",
      "OTHER OFFENSE             26034\n",
      "MOTOR VEHICLE THEFT       20385\n",
      "WEAPONS VIOLATION         17361\n",
      "ROBBERY                   15749\n",
      "BURGLARY                  15317\n"
     ]
    },
    {
     "data": {
      "image/png": "[encoded data removed]",
      "text/plain": [
       "<Figure size 1080x720 with 1 Axes>"
      ]
     },
     "metadata": {
      "needs_background": "light"
     },
     "output_type": "display_data"
    },
    {
     "data": {
      "text/plain": [
       "<Figure size 432x288 with 0 Axes>"
      ]
     },
     "metadata": {},
     "output_type": "display_data"
    }
   ],
   "source": [
    "crime_type = crime_df.groupby(\"Primary Type\")\n",
    "count_crime_types = crime_type[\"Primary Type\"].count()\n",
    "\n",
    "total_crimetype_df = pd.DataFrame({\"Crime Type\": count_crime_types})\n",
    "# total_crimetype_df\n",
    "\n",
    "top_ten_crimes = total_crimetype_df.sort_values(by = ['Crime Type'], ascending = False)[:10]\n",
    "\n",
    "top_ten_crimes.reset_index()\n",
    "\n",
    "print(top_ten_crimes)\n",
    "\n",
    "top_ten_crime_chart = top_ten_crimes.plot(kind='bar', figsize = (15, 10), color=[\"r\"])\n",
    "\n",
    "top_ten_crime_chart.set_xlabel(\"Type of Crime\")\n",
    "top_ten_crime_chart.set_ylabel(\"Number of Occurances\")\n",
    "#f, ax = plt.subplots(1, 1, figsize = (15, 10))\n",
    "\n",
    "plt.show()\n",
    "plt.tight_layout()\n"
   ]
  },
  {
   "cell_type": "code",
   "execution_count": null,
   "id": "095a0231-4329-476d-aa87-303943c30ef0",
   "metadata": {
    "pycharm": {
     "name": "#%%\n"
    }
   },
   "outputs": [],
   "source": []
  }
 ],
 "metadata": {
  "kernelspec": {
   "display_name": "Python 3 (ipykernel)",
   "language": "python",
   "name": "python3"
  },
  "language_info": {
   "codemirror_mode": {
    "name": "ipython",
    "version": 3
   },
   "file_extension": ".py",
   "mimetype": "text/x-python",
   "name": "python",
   "nbconvert_exporter": "python",
   "pygments_lexer": "ipython3",
   "version": "3.9.7"
  }
 },
 "nbformat": 4,
 "nbformat_minor": 5
}