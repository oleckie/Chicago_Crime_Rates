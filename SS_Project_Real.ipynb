{
 "cells": [
  {
   "cell_type": "code",
   "execution_count": 1,
   "id": "05539f24-9ec7-47f4-bb57-13d4d5ac5b62",
   "metadata": {},
   "outputs": [],
   "source": [
    "import pandas as pd\n",
    "import os\n",
    "import csv\n",
    "import numpy as np\n",
    "import matplotlib.pyplot as plt\n",
    "import datetime as date\n",
    " \n",
    "primary_type = []\n"
   ]
  },
  {
   "cell_type": "code",
   "execution_count": 2,
   "id": "955a3a36-4a29-470a-8a0d-5ba3323d3911",
   "metadata": {},
   "outputs": [
    {
     "data": {
      "text/html": [
       "<div>\n",
       "<style scoped>\n",
       "    .dataframe tbody tr th:only-of-type {\n",
       "        vertical-align: middle;\n",
       "    }\n",
       "\n",
       "    .dataframe tbody tr th {\n",
       "        vertical-align: top;\n",
       "    }\n",
       "\n",
       "    .dataframe thead th {\n",
       "        text-align: right;\n",
       "    }\n",
       "</style>\n",
       "<table border=\"1\" class=\"dataframe\">\n",
       "  <thead>\n",
       "    <tr style=\"text-align: right;\">\n",
       "      <th></th>\n",
       "      <th>ID</th>\n",
       "      <th>Case Number</th>\n",
       "      <th>Block</th>\n",
       "      <th>IUCR</th>\n",
       "      <th>Primary Type</th>\n",
       "      <th>Description</th>\n",
       "      <th>Location Description</th>\n",
       "      <th>Arrest</th>\n",
       "      <th>Domestic</th>\n",
       "      <th>Beat</th>\n",
       "      <th>...</th>\n",
       "      <th>Ward</th>\n",
       "      <th>Community Area</th>\n",
       "      <th>FBI Code</th>\n",
       "      <th>X Coordinate</th>\n",
       "      <th>Y Coordinate</th>\n",
       "      <th>Year</th>\n",
       "      <th>Updated On</th>\n",
       "      <th>Latitude</th>\n",
       "      <th>Longitude</th>\n",
       "      <th>Location</th>\n",
       "    </tr>\n",
       "    <tr>\n",
       "      <th>Date</th>\n",
       "      <th></th>\n",
       "      <th></th>\n",
       "      <th></th>\n",
       "      <th></th>\n",
       "      <th></th>\n",
       "      <th></th>\n",
       "      <th></th>\n",
       "      <th></th>\n",
       "      <th></th>\n",
       "      <th></th>\n",
       "      <th></th>\n",
       "      <th></th>\n",
       "      <th></th>\n",
       "      <th></th>\n",
       "      <th></th>\n",
       "      <th></th>\n",
       "      <th></th>\n",
       "      <th></th>\n",
       "      <th></th>\n",
       "      <th></th>\n",
       "      <th></th>\n",
       "    </tr>\n",
       "  </thead>\n",
       "  <tbody>\n",
       "    <tr>\n",
       "      <th>2020-01-01</th>\n",
       "      <td>12016034</td>\n",
       "      <td>JD193556</td>\n",
       "      <td>018XX N WINNEBAGO AVE</td>\n",
       "      <td>1153</td>\n",
       "      <td>DECEPTIVE PRACTICE</td>\n",
       "      <td>FINANCIAL IDENTITY THEFT OVER $ 300</td>\n",
       "      <td>APARTMENT</td>\n",
       "      <td>False</td>\n",
       "      <td>False</td>\n",
       "      <td>1434</td>\n",
       "      <td>...</td>\n",
       "      <td>32.0</td>\n",
       "      <td>22.0</td>\n",
       "      <td>11</td>\n",
       "      <td>1160263.0</td>\n",
       "      <td>1912391.0</td>\n",
       "      <td>2020</td>\n",
       "      <td>03/26/2020 03:45:12 PM</td>\n",
       "      <td>41.915306</td>\n",
       "      <td>-87.686639</td>\n",
       "      <td>(41.915306069, -87.686639247)</td>\n",
       "    </tr>\n",
       "    <tr>\n",
       "      <th>2020-01-01</th>\n",
       "      <td>12220321</td>\n",
       "      <td>JD430436</td>\n",
       "      <td>091XX S DREXEL AVE</td>\n",
       "      <td>1752</td>\n",
       "      <td>OFFENSE INVOLVING CHILDREN</td>\n",
       "      <td>AGGRAVATED CRIMINAL SEXUAL ABUSE BY FAMILY MEMBER</td>\n",
       "      <td>RESIDENCE</td>\n",
       "      <td>False</td>\n",
       "      <td>True</td>\n",
       "      <td>413</td>\n",
       "      <td>...</td>\n",
       "      <td>8.0</td>\n",
       "      <td>47.0</td>\n",
       "      <td>17</td>\n",
       "      <td>1184157.0</td>\n",
       "      <td>1844395.0</td>\n",
       "      <td>2020</td>\n",
       "      <td>12/19/2020 03:45:59 PM</td>\n",
       "      <td>41.728192</td>\n",
       "      <td>-87.600985</td>\n",
       "      <td>(41.728192429, -87.600985433)</td>\n",
       "    </tr>\n",
       "    <tr>\n",
       "      <th>2020-01-01</th>\n",
       "      <td>12013828</td>\n",
       "      <td>JD191019</td>\n",
       "      <td>044XX S LAVERGNE AVE</td>\n",
       "      <td>0281</td>\n",
       "      <td>CRIMINAL SEXUAL ASSAULT</td>\n",
       "      <td>NON-AGGRAVATED</td>\n",
       "      <td>APARTMENT</td>\n",
       "      <td>False</td>\n",
       "      <td>False</td>\n",
       "      <td>814</td>\n",
       "      <td>...</td>\n",
       "      <td>22.0</td>\n",
       "      <td>56.0</td>\n",
       "      <td>02</td>\n",
       "      <td>1143770.0</td>\n",
       "      <td>1874726.0</td>\n",
       "      <td>2020</td>\n",
       "      <td>03/28/2020 03:47:02 PM</td>\n",
       "      <td>41.812274</td>\n",
       "      <td>-87.748177</td>\n",
       "      <td>(41.81227369, -87.748176594)</td>\n",
       "    </tr>\n",
       "    <tr>\n",
       "      <th>2020-01-01</th>\n",
       "      <td>12019692</td>\n",
       "      <td>JD197444</td>\n",
       "      <td>032XX N LINCOLN AVE</td>\n",
       "      <td>1153</td>\n",
       "      <td>DECEPTIVE PRACTICE</td>\n",
       "      <td>FINANCIAL IDENTITY THEFT OVER $ 300</td>\n",
       "      <td>APARTMENT</td>\n",
       "      <td>False</td>\n",
       "      <td>False</td>\n",
       "      <td>1922</td>\n",
       "      <td>...</td>\n",
       "      <td>47.0</td>\n",
       "      <td>6.0</td>\n",
       "      <td>11</td>\n",
       "      <td>1164983.0</td>\n",
       "      <td>1921507.0</td>\n",
       "      <td>2020</td>\n",
       "      <td>04/01/2020 03:50:17 PM</td>\n",
       "      <td>41.940222</td>\n",
       "      <td>-87.669039</td>\n",
       "      <td>(41.940221932, -87.669039008)</td>\n",
       "    </tr>\n",
       "    <tr>\n",
       "      <th>2020-01-01</th>\n",
       "      <td>12036792</td>\n",
       "      <td>JD216459</td>\n",
       "      <td>072XX S WHIPPLE ST</td>\n",
       "      <td>1154</td>\n",
       "      <td>DECEPTIVE PRACTICE</td>\n",
       "      <td>FINANCIAL IDENTITY THEFT $300 AND UNDER</td>\n",
       "      <td>RESIDENCE</td>\n",
       "      <td>False</td>\n",
       "      <td>False</td>\n",
       "      <td>831</td>\n",
       "      <td>...</td>\n",
       "      <td>18.0</td>\n",
       "      <td>66.0</td>\n",
       "      <td>11</td>\n",
       "      <td>1157290.0</td>\n",
       "      <td>1856526.0</td>\n",
       "      <td>2020</td>\n",
       "      <td>04/29/2020 03:53:17 PM</td>\n",
       "      <td>41.762067</td>\n",
       "      <td>-87.699077</td>\n",
       "      <td>(41.762066981, -87.699077348)</td>\n",
       "    </tr>\n",
       "  </tbody>\n",
       "</table>\n",
       "<p>5 rows × 21 columns</p>\n",
       "</div>"
      ],
      "text/plain": [
       "                  ID Case Number                  Block  IUCR  \\\n",
       "Date                                                            \n",
       "2020-01-01  12016034    JD193556  018XX N WINNEBAGO AVE  1153   \n",
       "2020-01-01  12220321    JD430436     091XX S DREXEL AVE  1752   \n",
       "2020-01-01  12013828    JD191019   044XX S LAVERGNE AVE  0281   \n",
       "2020-01-01  12019692    JD197444    032XX N LINCOLN AVE  1153   \n",
       "2020-01-01  12036792    JD216459     072XX S WHIPPLE ST  1154   \n",
       "\n",
       "                          Primary Type  \\\n",
       "Date                                     \n",
       "2020-01-01          DECEPTIVE PRACTICE   \n",
       "2020-01-01  OFFENSE INVOLVING CHILDREN   \n",
       "2020-01-01     CRIMINAL SEXUAL ASSAULT   \n",
       "2020-01-01          DECEPTIVE PRACTICE   \n",
       "2020-01-01          DECEPTIVE PRACTICE   \n",
       "\n",
       "                                                  Description  \\\n",
       "Date                                                            \n",
       "2020-01-01                FINANCIAL IDENTITY THEFT OVER $ 300   \n",
       "2020-01-01  AGGRAVATED CRIMINAL SEXUAL ABUSE BY FAMILY MEMBER   \n",
       "2020-01-01                                     NON-AGGRAVATED   \n",
       "2020-01-01                FINANCIAL IDENTITY THEFT OVER $ 300   \n",
       "2020-01-01            FINANCIAL IDENTITY THEFT $300 AND UNDER   \n",
       "\n",
       "           Location Description  Arrest  Domestic  Beat  ...  Ward  \\\n",
       "Date                                                     ...         \n",
       "2020-01-01            APARTMENT   False     False  1434  ...  32.0   \n",
       "2020-01-01            RESIDENCE   False      True   413  ...   8.0   \n",
       "2020-01-01            APARTMENT   False     False   814  ...  22.0   \n",
       "2020-01-01            APARTMENT   False     False  1922  ...  47.0   \n",
       "2020-01-01            RESIDENCE   False     False   831  ...  18.0   \n",
       "\n",
       "            Community Area  FBI Code X Coordinate  Y Coordinate  Year  \\\n",
       "Date                                                                    \n",
       "2020-01-01            22.0        11    1160263.0     1912391.0  2020   \n",
       "2020-01-01            47.0        17    1184157.0     1844395.0  2020   \n",
       "2020-01-01            56.0        02    1143770.0     1874726.0  2020   \n",
       "2020-01-01             6.0        11    1164983.0     1921507.0  2020   \n",
       "2020-01-01            66.0        11    1157290.0     1856526.0  2020   \n",
       "\n",
       "                        Updated On   Latitude  Longitude  \\\n",
       "Date                                                       \n",
       "2020-01-01  03/26/2020 03:45:12 PM  41.915306 -87.686639   \n",
       "2020-01-01  12/19/2020 03:45:59 PM  41.728192 -87.600985   \n",
       "2020-01-01  03/28/2020 03:47:02 PM  41.812274 -87.748177   \n",
       "2020-01-01  04/01/2020 03:50:17 PM  41.940222 -87.669039   \n",
       "2020-01-01  04/29/2020 03:53:17 PM  41.762067 -87.699077   \n",
       "\n",
       "                                 Location  \n",
       "Date                                       \n",
       "2020-01-01  (41.915306069, -87.686639247)  \n",
       "2020-01-01  (41.728192429, -87.600985433)  \n",
       "2020-01-01   (41.81227369, -87.748176594)  \n",
       "2020-01-01  (41.940221932, -87.669039008)  \n",
       "2020-01-01  (41.762066981, -87.699077348)  \n",
       "\n",
       "[5 rows x 21 columns]"
      ]
     },
     "execution_count": 2,
     "metadata": {},
     "output_type": "execute_result"
    }
   ],
   "source": [
    "#establishing path to the csv file\n",
    "csvpath = os.path.join(\"clean.csv\")\n",
    "\n",
    "#creating DataFrame of csv data\n",
    "crime_df = pd.read_csv(csvpath)\n",
    "crime_df = pd.read_csv(csvpath, parse_dates=True ,index_col='Date')\n",
    "#printing DataFrame info\n",
    "crime_df.head()"
   ]
  },
  {
   "cell_type": "markdown",
   "id": "2580c4c3-e0cb-4638-bea6-4d150d977e8f",
   "metadata": {},
   "source": [
    "Find data with incomplete rows."
   ]
  },
  {
   "cell_type": "code",
   "execution_count": 3,
   "id": "58ac2a58-2df4-4631-898c-cd9226362ec2",
   "metadata": {},
   "outputs": [
    {
     "data": {
      "text/plain": [
       "ID                      409763\n",
       "Case Number             409763\n",
       "Block                   409763\n",
       "IUCR                    409763\n",
       "Primary Type            409763\n",
       "Description             409763\n",
       "Location Description    409763\n",
       "Arrest                  409763\n",
       "Domestic                409763\n",
       "Beat                    409763\n",
       "District                409763\n",
       "Ward                    409763\n",
       "Community Area          409763\n",
       "FBI Code                409763\n",
       "X Coordinate            409763\n",
       "Y Coordinate            409763\n",
       "Year                    409763\n",
       "Updated On              409763\n",
       "Latitude                409763\n",
       "Longitude               409763\n",
       "Location                409763\n",
       "dtype: int64"
      ]
     },
     "execution_count": 3,
     "metadata": {},
     "output_type": "execute_result"
    }
   ],
   "source": [
    "crime_df.count()"
   ]
  },
  {
   "cell_type": "code",
   "execution_count": 4,
   "id": "9a3d720b-d1f5-47c5-a689-4abe781b0ca3",
   "metadata": {},
   "outputs": [
    {
     "data": {
      "text/plain": [
       "ID                      409763\n",
       "Case Number             409763\n",
       "Block                   409763\n",
       "IUCR                    409763\n",
       "Primary Type            409763\n",
       "Description             409763\n",
       "Location Description    409763\n",
       "Arrest                  409763\n",
       "Domestic                409763\n",
       "Beat                    409763\n",
       "District                409763\n",
       "Ward                    409763\n",
       "Community Area          409763\n",
       "FBI Code                409763\n",
       "X Coordinate            409763\n",
       "Y Coordinate            409763\n",
       "Year                    409763\n",
       "Updated On              409763\n",
       "Latitude                409763\n",
       "Longitude               409763\n",
       "Location                409763\n",
       "dtype: int64"
      ]
     },
     "execution_count": 4,
     "metadata": {},
     "output_type": "execute_result"
    }
   ],
   "source": [
    "#drop all rows with missing information.\n",
    "crime_df = crime_df.dropna(how='any')\n",
    "\n",
    "#confirm new list\n",
    "crime_df.count()"
   ]
  },
  {
   "cell_type": "markdown",
   "id": "0406bea1-983f-4dcc-ad58-a283cc81c7dd",
   "metadata": {},
   "source": [
    "Number of each type of crime."
   ]
  },
  {
   "cell_type": "code",
   "execution_count": 5,
   "id": "45f424a7-67fa-4e0c-a999-a33a4a24b6b6",
   "metadata": {},
   "outputs": [
    {
     "data": {
      "text/plain": [
       "BATTERY                              81731\n",
       "THEFT                                79486\n",
       "CRIMINAL DAMAGE                      49541\n",
       "ASSAULT                              38462\n",
       "DECEPTIVE PRACTICE                   30941\n",
       "OTHER OFFENSE                        26034\n",
       "MOTOR VEHICLE THEFT                  20385\n",
       "WEAPONS VIOLATION                    17361\n",
       "ROBBERY                              15749\n",
       "BURGLARY                             15317\n",
       "NARCOTICS                            11358\n",
       "CRIMINAL TRESPASS                     7528\n",
       "OFFENSE INVOLVING CHILDREN            3629\n",
       "CRIMINAL SEXUAL ASSAULT               2487\n",
       "SEX OFFENSE                           1914\n",
       "PUBLIC PEACE VIOLATION                1861\n",
       "HOMICIDE                              1601\n",
       "ARSON                                 1111\n",
       "INTERFERENCE WITH PUBLIC OFFICER       968\n",
       "STALKING                               552\n",
       "PROSTITUTION                           370\n",
       "LIQUOR LAW VIOLATION                   323\n",
       "CONCEALED CARRY LICENSE VIOLATION      317\n",
       "INTIMIDATION                           278\n",
       "KIDNAPPING                             205\n",
       "OBSCENITY                               97\n",
       "CRIM SEXUAL ASSAULT                     75\n",
       "GAMBLING                                38\n",
       "HUMAN TRAFFICKING                       17\n",
       "PUBLIC INDECENCY                        13\n",
       "OTHER NARCOTIC VIOLATION                 8\n",
       "NON-CRIMINAL                             5\n",
       "RITUALISM                                1\n",
       "Name: Primary Type, dtype: int64"
      ]
     },
     "execution_count": 5,
     "metadata": {},
     "output_type": "execute_result"
    }
   ],
   "source": [
    "crime_df[\"Primary Type\"].value_counts()\n",
    "#crime_df['Date']= pd.to_datetime(crime_df['Date'])"
   ]
  },
  {
   "cell_type": "markdown",
   "id": "c6b4744d-d19b-403e-a145-708bd7083930",
   "metadata": {},
   "source": [
    "Number of each type of crime."
   ]
  },
  {
   "cell_type": "code",
   "execution_count": 6,
   "id": "7d54f8d0-9d7b-49d7-83e7-f6d39dd1bdcc",
   "metadata": {},
   "outputs": [
    {
     "data": {
      "text/plain": [
       "Primary Type\n",
       "ARSON                                 1111\n",
       "ASSAULT                              38462\n",
       "BATTERY                              81731\n",
       "BURGLARY                             15317\n",
       "CONCEALED CARRY LICENSE VIOLATION      317\n",
       "CRIM SEXUAL ASSAULT                     75\n",
       "CRIMINAL DAMAGE                      49541\n",
       "CRIMINAL SEXUAL ASSAULT               2487\n",
       "CRIMINAL TRESPASS                     7528\n",
       "DECEPTIVE PRACTICE                   30941\n",
       "GAMBLING                                38\n",
       "HOMICIDE                              1601\n",
       "HUMAN TRAFFICKING                       17\n",
       "INTERFERENCE WITH PUBLIC OFFICER       968\n",
       "INTIMIDATION                           278\n",
       "KIDNAPPING                             205\n",
       "LIQUOR LAW VIOLATION                   323\n",
       "MOTOR VEHICLE THEFT                  20385\n",
       "NARCOTICS                            11358\n",
       "NON-CRIMINAL                             5\n",
       "OBSCENITY                               97\n",
       "OFFENSE INVOLVING CHILDREN            3629\n",
       "OTHER NARCOTIC VIOLATION                 8\n",
       "OTHER OFFENSE                        26034\n",
       "PROSTITUTION                           370\n",
       "PUBLIC INDECENCY                        13\n",
       "PUBLIC PEACE VIOLATION                1861\n",
       "RITUALISM                                1\n",
       "ROBBERY                              15749\n",
       "SEX OFFENSE                           1914\n",
       "STALKING                               552\n",
       "THEFT                                79486\n",
       "WEAPONS VIOLATION                    17361\n",
       "Name: Primary Type, dtype: int64"
      ]
     },
     "execution_count": 6,
     "metadata": {},
     "output_type": "execute_result"
    }
   ],
   "source": [
    "crime_type = crime_df.groupby(\"Primary Type\")\n",
    "count_crime_types = crime_type[\"Primary Type\"].count()\n",
    "count_crime_types"
   ]
  },
  {
   "cell_type": "code",
   "execution_count": 7,
   "id": "47807d25-fbb4-4cc3-9338-101db90a96d4",
   "metadata": {},
   "outputs": [
    {
     "name": "stdout",
     "output_type": "stream",
     "text": [
      "                     Crime Type\n",
      "Primary Type                   \n",
      "BATTERY                   81731\n",
      "THEFT                     79486\n",
      "CRIMINAL DAMAGE           49541\n",
      "ASSAULT                   38462\n",
      "DECEPTIVE PRACTICE        30941\n",
      "OTHER OFFENSE             26034\n",
      "MOTOR VEHICLE THEFT       20385\n",
      "WEAPONS VIOLATION         17361\n",
      "ROBBERY                   15749\n",
      "BURGLARY                  15317\n"
     ]
    },
    {
     "data": {
      "image/png": "[encoded data removed]",
      "text/plain": [
       "<Figure size 1080x720 with 1 Axes>"
      ]
     },
     "metadata": {
      "needs_background": "light"
     },
     "output_type": "display_data"
    },
    {
     "data": {
      "text/plain": [
       "<Figure size 432x288 with 0 Axes>"
      ]
     },
     "metadata": {},
     "output_type": "display_data"
    }
   ],
   "source": [
    "\n",
    "crime_type = crime_df.groupby(\"Primary Type\")\n",
    "count_crime_types = crime_type[\"Primary Type\"].count()\n",
    "\n",
    "total_crimetype_df = pd.DataFrame({\"Crime Type\": count_crime_types})\n",
    "# total_crimetype_df\n",
    "\n",
    "top_ten_crimes = total_crimetype_df.sort_values(by = ['Crime Type'], ascending = False)[:10]\n",
    "\n",
    "top_ten_crimes.reset_index()\n",
    "\n",
    "print(top_ten_crimes)\n",
    "\n",
    "top_ten_crime_chart = top_ten_crimes.plot(kind='bar', figsize = (15, 10), color=[\"r\"])\n",
    "\n",
    "top_ten_crime_chart.set_xlabel(\"Date\")\n",
    "top_ten_crime_chart.set_ylabel(\"Number of Occurances\")\n",
    "#f, ax = plt.subplots(1, 1, figsize = (15, 10))\n",
    "\n",
    "plt.show()\n",
    "plt.tight_layout()\n"
   ]
  },
  {
   "cell_type": "code",
   "execution_count": 8,
   "id": "095a0231-4329-476d-aa87-303943c30ef0",
   "metadata": {},
   "outputs": [
    {
     "name": "stdout",
     "output_type": "stream",
     "text": [
      "19551.0\n"
     ]
    }
   ],
   "source": [
    "crime_jan_2020_df = crime_df.loc['2020-01-01':'2020-01-31']\n",
    "crime_jan_2020_df\n",
    "\n",
    "cj20 = crime_jan_2020_df.size / 21\n",
    "\n",
    "print(cj20)"
   ]
  },
  {
   "cell_type": "code",
   "execution_count": 9,
   "id": "ff598eab",
   "metadata": {},
   "outputs": [
    {
     "name": "stdout",
     "output_type": "stream",
     "text": [
      "17376.0\n"
     ]
    }
   ],
   "source": [
    "crime_feb_2020_df = crime_df.loc['2020-02-01':'2020-02-28']\n",
    "crime_feb_2020_df\n",
    "\n",
    "cf20 = crime_feb_2020_df.size / 21\n",
    "\n",
    "print(cf20)\n",
    "\n"
   ]
  },
  {
   "cell_type": "code",
   "execution_count": 10,
   "id": "ebbebd54",
   "metadata": {},
   "outputs": [
    {
     "name": "stdout",
     "output_type": "stream",
     "text": [
      "16433.0\n"
     ]
    }
   ],
   "source": [
    "crime_mar_2020_df = crime_df.loc['2020-03-01':'2020-03-31']\n",
    "crime_mar_2020_df\n",
    "\n",
    "cmr20 = crime_mar_2020_df.size / 21\n",
    "\n",
    "print(cmr20)"
   ]
  },
  {
   "cell_type": "code",
   "execution_count": 11,
   "id": "bf125bbb",
   "metadata": {},
   "outputs": [
    {
     "name": "stdout",
     "output_type": "stream",
     "text": [
      "12632.0\n"
     ]
    }
   ],
   "source": [
    "crime_apr_2020_df = crime_df.loc['2020-04-01':'2020-04-30']\n",
    "crime_apr_2020_df\n",
    "\n",
    "cap20 = crime_apr_2020_df.size / 21\n",
    "\n",
    "print(cap20)"
   ]
  },
  {
   "cell_type": "code",
   "execution_count": 12,
   "id": "2f0ed484",
   "metadata": {},
   "outputs": [
    {
     "name": "stdout",
     "output_type": "stream",
     "text": [
      "17291.0\n"
     ]
    }
   ],
   "source": [
    "crime_may_2020_df = crime_df.loc['2020-05-01':'2020-05-31']\n",
    "crime_may_2020_df\n",
    "\n",
    "cm20 = crime_may_2020_df.size / 21\n",
    "\n",
    "print(cm20)"
   ]
  },
  {
   "cell_type": "code",
   "execution_count": 13,
   "id": "2de60ecb",
   "metadata": {},
   "outputs": [
    {
     "name": "stdout",
     "output_type": "stream",
     "text": [
      "17324.0\n"
     ]
    }
   ],
   "source": [
    "crime_june_2020_df = crime_df.loc['2020-06-01':'2020-06-30']\n",
    "\n",
    "crime_june_2020_df\n",
    "\n",
    "cjn20 = crime_june_2020_df.size / 21\n",
    "\n",
    "print(cjn20)"
   ]
  },
  {
   "cell_type": "code",
   "execution_count": 14,
   "id": "073203bb",
   "metadata": {},
   "outputs": [
    {
     "name": "stdout",
     "output_type": "stream",
     "text": [
      "19241.0\n"
     ]
    }
   ],
   "source": [
    "crime_july_2020_df = crime_df.loc['2020-07-01':'2020-07-31']\n",
    "crime_july_2020_df\n",
    "\n",
    "cjl20 = crime_july_2020_df.size / 21\n",
    "\n",
    "print(cjl20)\n",
    "\n"
   ]
  },
  {
   "cell_type": "code",
   "execution_count": 15,
   "id": "0b4f7562",
   "metadata": {},
   "outputs": [
    {
     "name": "stdout",
     "output_type": "stream",
     "text": [
      "19540.0\n"
     ]
    }
   ],
   "source": [
    "crime_aug_2020_df = crime_df.loc['2020-08-01':'2020-08-31']\n",
    "crime_aug_2020_df\n",
    "\n",
    "ca20 = crime_aug_2020_df.size / 21\n",
    "\n",
    "print(ca20)"
   ]
  },
  {
   "cell_type": "code",
   "execution_count": 16,
   "id": "e2a92bfa",
   "metadata": {},
   "outputs": [
    {
     "name": "stdout",
     "output_type": "stream",
     "text": [
      "17521.0\n"
     ]
    }
   ],
   "source": [
    "crime_sep_2020_df = crime_df.loc['2020-09-01':'2020-09-30']\n",
    "crime_sep_2020_df\n",
    "\n",
    "cs20 = crime_sep_2020_df.size / 21\n",
    "\n",
    "print(cs20)"
   ]
  },
  {
   "cell_type": "code",
   "execution_count": 17,
   "id": "ea6c5a31",
   "metadata": {},
   "outputs": [
    {
     "name": "stdout",
     "output_type": "stream",
     "text": [
      "17957.0\n"
     ]
    }
   ],
   "source": [
    "crime_oct_2020_df = crime_df.loc['2020-10-01':'2020-10-31']\n",
    "crime_oct_2020_df\n",
    "\n",
    "co20 = crime_oct_2020_df.size / 21\n",
    "\n",
    "print(co20)"
   ]
  },
  {
   "cell_type": "code",
   "execution_count": 18,
   "id": "6eb06c52",
   "metadata": {},
   "outputs": [
    {
     "name": "stdout",
     "output_type": "stream",
     "text": [
      "16138.0\n"
     ]
    }
   ],
   "source": [
    "crime_nov_2020_df = crime_df.loc['2020-11-01':'2020-11-30']\n",
    "crime_nov_2020_df\n",
    "\n",
    "cn20 = crime_nov_2020_df.size / 21\n",
    "\n",
    "print(cn20) "
   ]
  },
  {
   "cell_type": "code",
   "execution_count": 19,
   "id": "a94f2d07",
   "metadata": {},
   "outputs": [
    {
     "name": "stdout",
     "output_type": "stream",
     "text": [
      "15839.0\n"
     ]
    }
   ],
   "source": [
    "crime_dec_2020_df = crime_df.loc['2020-12-01':'2020-12-31']\n",
    "crime_dec_2020_df\n",
    "\n",
    "cd20 = crime_dec_2020_df.size / 21\n",
    "\n",
    "print(cd20)"
   ]
  },
  {
   "cell_type": "code",
   "execution_count": 20,
   "id": "993fb4df",
   "metadata": {},
   "outputs": [
    {
     "name": "stdout",
     "output_type": "stream",
     "text": [
      "15831.0\n"
     ]
    }
   ],
   "source": [
    "crime_jan_2021_df = crime_df.loc['2021-01-01':'2021-01-31']\n",
    "crime_jan_2021_df\n",
    "\n",
    "cj21 = crime_jan_2021_df.size / 21\n",
    "\n",
    "print(cj21)"
   ]
  },
  {
   "cell_type": "code",
   "execution_count": 21,
   "id": "d9438b30",
   "metadata": {},
   "outputs": [
    {
     "name": "stdout",
     "output_type": "stream",
     "text": [
      "12740.0\n"
     ]
    }
   ],
   "source": [
    "crime_feb_2021_df = crime_df.loc['2021-02-01':'2021-02-28']\n",
    "crime_feb_2021_df\n",
    "\n",
    "cf21 = crime_feb_2021_df.size / 21\n",
    "\n",
    "print(cf21)"
   ]
  },
  {
   "cell_type": "code",
   "execution_count": 22,
   "id": "759c418d",
   "metadata": {},
   "outputs": [
    {
     "name": "stdout",
     "output_type": "stream",
     "text": [
      "15586.0\n"
     ]
    }
   ],
   "source": [
    "crime_mar_2021_df = crime_df.loc['2021-03-01':'2021-03-31']\n",
    "crime_mar_2021_df\n",
    "\n",
    "cmr21 = crime_mar_2021_df.size / 21\n",
    "\n",
    "print(cmr21)"
   ]
  },
  {
   "cell_type": "code",
   "execution_count": 23,
   "id": "5ce37e9d",
   "metadata": {},
   "outputs": [],
   "source": [
    "crime_apr_2021_df = crime_df.loc['2021-04-01':'2021-04-30']\n",
    "crime_apr_2021_df\n",
    "\n",
    "cap21 = crime_apr_2021_df.size / 21\n",
    "\n"
   ]
  },
  {
   "cell_type": "code",
   "execution_count": 24,
   "id": "c3bc16bb",
   "metadata": {},
   "outputs": [],
   "source": [
    "crime_may_2021_df = crime_df.loc['2021-05-01':'2021-05-31']\n",
    "crime_may_2021_df\n",
    "\n",
    "cm21 = crime_may_2021_df.size / 21\n",
    "\n"
   ]
  },
  {
   "cell_type": "code",
   "execution_count": 25,
   "id": "8515f457",
   "metadata": {},
   "outputs": [],
   "source": [
    "crime_jun_2021_df = crime_df.loc['2021-06-01':'2021-06-30']\n",
    "crime_jun_2021_df\n",
    "\n",
    "cjn21 = crime_jun_2021_df.size / 21\n",
    "\n"
   ]
  },
  {
   "cell_type": "code",
   "execution_count": 26,
   "id": "01d3b420",
   "metadata": {},
   "outputs": [],
   "source": [
    "crime_jul_2021_df = crime_df.loc['2021-07-01':'2021-07-31']\n",
    "crime_jul_2021_df\n",
    "\n",
    "cjl21 = crime_jul_2021_df.size / 21\n",
    "\n"
   ]
  },
  {
   "cell_type": "code",
   "execution_count": 27,
   "id": "eede54b4",
   "metadata": {},
   "outputs": [],
   "source": [
    "crime_aug_2021_df = crime_df.loc['2021-08-01':'2021-08-31']\n",
    "crime_aug_2021_df\n",
    "\n",
    "ca21 = crime_aug_2021_df.size / 21\n",
    "\n"
   ]
  },
  {
   "cell_type": "code",
   "execution_count": 28,
   "id": "8e8bad11",
   "metadata": {},
   "outputs": [],
   "source": [
    "crime_sep_2021_df = crime_df.loc['2021-09-01':'2021-09-30']\n",
    "crime_sep_2021_df\n",
    "\n",
    "cs21 = crime_sep_2021_df.size / 21\n",
    "\n"
   ]
  },
  {
   "cell_type": "code",
   "execution_count": 29,
   "id": "ebc511aa",
   "metadata": {},
   "outputs": [],
   "source": [
    "crime_oct_2021_df = crime_df.loc['2021-10-01':'2021-10-31']\n",
    "\n",
    "crime_oct_2021_df\n",
    "\n",
    "co21 = crime_oct_2021_df.size / 21\n",
    "\n"
   ]
  },
  {
   "cell_type": "code",
   "execution_count": 30,
   "id": "fda0f627",
   "metadata": {},
   "outputs": [],
   "source": [
    "crime_nov_2021_df = crime_df.loc['2021-11-01':'2021-11-30']\n",
    "\n",
    "crime_nov_2021_df\n",
    "\n",
    "cn21 = crime_nov_2021_df.size / 21\n",
    "\n"
   ]
  },
  {
   "cell_type": "code",
   "execution_count": 31,
   "id": "679abd52",
   "metadata": {},
   "outputs": [],
   "source": [
    "crime_dec_2021_df = crime_df.loc['2021-12-01':'2021-12-31']\n",
    "\n",
    "crime_dec_2021_df\n",
    "\n",
    "cd21 = crime_dec_2021_df.size / 21\n",
    "\n"
   ]
  },
  {
   "cell_type": "code",
   "execution_count": 32,
   "id": "2e00908e",
   "metadata": {},
   "outputs": [
    {
     "data": {
      "text/plain": [
       "Text(0.5, 1.0, '2021 Crime')"
      ]
     },
     "execution_count": 32,
     "metadata": {},
     "output_type": "execute_result"
    },
    {
     "data": {
      "image/png": "[encoded data removed]",
      "text/plain": [
       "<Figure size 720x360 with 1 Axes>"
      ]
     },
     "metadata": {
      "needs_background": "light"
     },
     "output_type": "display_data"
    }
   ],
   "source": [
    "\n",
    "\n",
    "x = np.array(['Jan 21' , 'Feb 21' , 'Mar 21' , 'Apr 21' , 'May 21' , 'Jun 21' , 'Jul 21' , 'Aug 21' , 'Sep 21' , 'Oct 21' , 'Nov 21' , 'Dec 21'])\n",
    "\n",
    "y = np.array([cj21 , cf21 , cmr21 , cap21 , cm21 , cjn21 , cjl21 , ca21 , cs21 , co21 , cn21 , cd21])\n",
    "\n",
    "fig = plt.figure(figsize = (10,5))\n",
    "\n",
    "plt.plot(x,y)\n",
    "\n",
    "plt.xlabel(\"Dates\")  \n",
    "plt.ylabel(\"Crimes Committed\")  \n",
    "plt.title(\"2021 Crime\")  \n",
    "\n",
    "\n"
   ]
  },
  {
   "cell_type": "code",
   "execution_count": 33,
   "id": "3b99778a",
   "metadata": {},
   "outputs": [
    {
     "data": {
      "text/plain": [
       "Text(0.5, 1.0, '2020 Crime')"
      ]
     },
     "execution_count": 33,
     "metadata": {},
     "output_type": "execute_result"
    },
    {
     "data": {
      "image/png": "[encoded data removed]",
      "text/plain": [
       "<Figure size 720x360 with 1 Axes>"
      ]
     },
     "metadata": {
      "needs_background": "light"
     },
     "output_type": "display_data"
    }
   ],
   "source": [
    "x = np.array(['Jan 20' , 'Feb 20' , 'Mar 20' , 'Apr 20' , 'May 20' , 'Jun 20' , 'Jul 20' , 'Aug 20' , 'Sep 20' , 'Oct 20' , 'Nov 20' , 'Dec 20'])\n",
    "\n",
    "y = np.array([cj20 , cf20 , cmr20 , cap20 , cm20 , cjn20 , cjl20 , ca20 , cs20 , co20 , cn20 , cd20])\n",
    "\n",
    "fig = plt.figure(figsize = (10,5))\n",
    "\n",
    "plt.plot(x,y)\n",
    "\n",
    "plt.xlabel(\"Dates\")  \n",
    "plt.ylabel(\"Crimes Committed\")  \n",
    "plt.title(\"2020 Crime\") "
   ]
  },
  {
   "cell_type": "code",
   "execution_count": 34,
   "id": "ae538c93",
   "metadata": {},
   "outputs": [
    {
     "data": {
      "text/plain": [
       "Text(0.5, 1.0, '2020 to 2021 Crime')"
      ]
     },
     "execution_count": 34,
     "metadata": {},
     "output_type": "execute_result"
    },
    {
     "data": {
      "image/png": "[encoded data removed]",
      "text/plain": [
       "<Figure size 1440x720 with 1 Axes>"
      ]
     },
     "metadata": {
      "needs_background": "light"
     },
     "output_type": "display_data"
    }
   ],
   "source": [
    "\n",
    "x = np.array(['Jan 21' , 'Feb 21' , 'Mar 21' , 'Apr 21' , 'May 21' , 'Jun 21' , 'Jul 21' , 'Aug 21' , 'Sep 21' , 'Oct 21' , 'Nov 21' , 'Dec 21'])\n",
    "\n",
    "y = np.array([cj21 , cf21 , cmr21 , cap21 , cm21 , cjn21 , cjl21 , ca21 , cs21 , co21 , cn21 , cd21])\n",
    "\n",
    "w = np.array(['Jan 20' , 'Feb 20' , 'Mar 20' , 'Apr 20' , 'May 20' , 'Jun 20' , 'Jul 20' , 'Aug 20' , 'Sep 20' , 'Oct 20' , 'Nov 20' , 'Dec 20'])\n",
    "\n",
    "z = np.array([cj20 , cf20 , cmr20 , cap20 , cm20 , cjn20 , cjl20 , ca20 , cs20 , co20 , cn20 , cd20])\n",
    "\n",
    "fig = plt.figure(figsize = (20,10))\n",
    "\n",
    "plt.plot(w,z)\n",
    "\n",
    "plt.plot(x,y)\n",
    "\n",
    "plt.xlabel(\"Dates\")  \n",
    "plt.ylabel(\"Crimes Committed\")  \n",
    "plt.title(\"2020 to 2021 Crime\") "
   ]
  },
  {
   "cell_type": "code",
   "execution_count": 35,
   "id": "6a4dcabb",
   "metadata": {},
   "outputs": [
    {
     "data": {
      "text/plain": [
       "Text(0.5, 1.0, '2020 to 2021 Crime')"
      ]
     },
     "execution_count": 35,
     "metadata": {},
     "output_type": "execute_result"
    },
    {
     "data": {
      "image/png": "[encoded data removed]",
      "text/plain": [
       "<Figure size 720x360 with 1 Axes>"
      ]
     },
     "metadata": {
      "needs_background": "light"
     },
     "output_type": "display_data"
    }
   ],
   "source": [
    "x = np.array(['Jan' , 'Feb' , 'Mar' , 'Apr' , 'May' , 'Jun' , 'Jul' , 'Aug' , 'Sep' , 'Oct' , 'Nov' , 'Dec'])\n",
    "\n",
    "y = np.array([cj21 , cf21 , cmr21 , cap21 , cm21 , cjn21 , cjl21 , ca21 , cs21 , co21 , cn21 , cd21])\n",
    "\n",
    "z = np.array([cj20 , cf20 , cmr20 , cap20 , cm20 , cjn20 , cjl20 , ca20 , cs20 , co20 , cn20 , cd20])\n",
    "\n",
    "fig = plt.figure(figsize = (10,5))\n",
    "\n",
    "plt.plot(x,z)\n",
    "\n",
    "plt.plot(x,y)\n",
    "\n",
    "plt.xlabel(\"Dates\")  \n",
    "plt.ylabel(\"Crimes Committed\")  \n",
    "plt.title(\"2020 to 2021 Crime\")"
   ]
  }
 ],
 "metadata": {
  "interpreter": {
   "hash": "9d8a2aa56706f0475aa983bd88b54765f20e6e6d70a842875d22122789babd85"
  },
  "kernelspec": {
   "display_name": "Python 3.9.7 ('base')",
   "language": "python",
   "name": "python3"
  },
  "language_info": {
   "codemirror_mode": {
    "name": "ipython",
    "version": 3
   },
   "file_extension": ".py",
   "mimetype": "text/x-python",
   "name": "python",
   "nbconvert_exporter": "python",
   "pygments_lexer": "ipython3",
   "version": "3.9.7"
  }
 },
 "nbformat": 4,
 "nbformat_minor": 5
}
