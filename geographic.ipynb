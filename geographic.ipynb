{
 "cells": [
  {
   "cell_type": "code",
   "execution_count": 7,
   "metadata": {
    "pycharm": {
     "name": "#%%\n"
    }
   },
   "outputs": [],
   "source": [
    "# Dependencies\n",
    "\n",
    "from config import gkey\n",
    "import gmaps\n",
    "import csv\n",
    "import numpy as np\n",
    "import pandas as pd\n",
    "import requests\n",
    "import os\n",
    "import time\n",
    "from matplotlib import pyplot as plt\n"
   ]
  },
  {
   "cell_type": "code",
   "execution_count": 8,
   "metadata": {
    "pycharm": {
     "name": "#%%\n"
    }
   },
   "outputs": [
    {
     "data": {
      "text/html": [
       "<div>\n",
       "<style scoped>\n",
       "    .dataframe tbody tr th:only-of-type {\n",
       "        vertical-align: middle;\n",
       "    }\n",
       "\n",
       "    .dataframe tbody tr th {\n",
       "        vertical-align: top;\n",
       "    }\n",
       "\n",
       "    .dataframe thead th {\n",
       "        text-align: right;\n",
       "    }\n",
       "</style>\n",
       "<table border=\"1\" class=\"dataframe\">\n",
       "  <thead>\n",
       "    <tr style=\"text-align: right;\">\n",
       "      <th></th>\n",
       "      <th>ID</th>\n",
       "      <th>Case Number</th>\n",
       "      <th>Date</th>\n",
       "      <th>Block</th>\n",
       "      <th>IUCR</th>\n",
       "      <th>Primary Type</th>\n",
       "      <th>Description</th>\n",
       "      <th>Location Description</th>\n",
       "      <th>Arrest</th>\n",
       "      <th>Domestic</th>\n",
       "      <th>...</th>\n",
       "      <th>Ward</th>\n",
       "      <th>Community Area</th>\n",
       "      <th>FBI Code</th>\n",
       "      <th>X Coordinate</th>\n",
       "      <th>Y Coordinate</th>\n",
       "      <th>Year</th>\n",
       "      <th>Updated On</th>\n",
       "      <th>Latitude</th>\n",
       "      <th>Longitude</th>\n",
       "      <th>Location</th>\n",
       "    </tr>\n",
       "  </thead>\n",
       "  <tbody>\n",
       "    <tr>\n",
       "      <th>0</th>\n",
       "      <td>12016034</td>\n",
       "      <td>JD193556</td>\n",
       "      <td>01/01/2020 12:00:00 AM</td>\n",
       "      <td>018XX N WINNEBAGO AVE</td>\n",
       "      <td>1153</td>\n",
       "      <td>DECEPTIVE PRACTICE</td>\n",
       "      <td>FINANCIAL IDENTITY THEFT OVER $ 300</td>\n",
       "      <td>APARTMENT</td>\n",
       "      <td>False</td>\n",
       "      <td>False</td>\n",
       "      <td>...</td>\n",
       "      <td>32.0</td>\n",
       "      <td>22.0</td>\n",
       "      <td>11</td>\n",
       "      <td>1160263.0</td>\n",
       "      <td>1912391.0</td>\n",
       "      <td>2020</td>\n",
       "      <td>03/26/2020 03:45:12 PM</td>\n",
       "      <td>41.915306</td>\n",
       "      <td>-87.686639</td>\n",
       "      <td>(41.915306069, -87.686639247)</td>\n",
       "    </tr>\n",
       "    <tr>\n",
       "      <th>1</th>\n",
       "      <td>12220321</td>\n",
       "      <td>JD430436</td>\n",
       "      <td>01/01/2020 12:00:00 AM</td>\n",
       "      <td>091XX S DREXEL AVE</td>\n",
       "      <td>1752</td>\n",
       "      <td>OFFENSE INVOLVING CHILDREN</td>\n",
       "      <td>AGGRAVATED CRIMINAL SEXUAL ABUSE BY FAMILY MEMBER</td>\n",
       "      <td>RESIDENCE</td>\n",
       "      <td>False</td>\n",
       "      <td>True</td>\n",
       "      <td>...</td>\n",
       "      <td>8.0</td>\n",
       "      <td>47.0</td>\n",
       "      <td>17</td>\n",
       "      <td>1184157.0</td>\n",
       "      <td>1844395.0</td>\n",
       "      <td>2020</td>\n",
       "      <td>12/19/2020 03:45:59 PM</td>\n",
       "      <td>41.728192</td>\n",
       "      <td>-87.600985</td>\n",
       "      <td>(41.728192429, -87.600985433)</td>\n",
       "    </tr>\n",
       "    <tr>\n",
       "      <th>2</th>\n",
       "      <td>12013828</td>\n",
       "      <td>JD191019</td>\n",
       "      <td>01/01/2020 12:00:00 AM</td>\n",
       "      <td>044XX S LAVERGNE AVE</td>\n",
       "      <td>0281</td>\n",
       "      <td>CRIMINAL SEXUAL ASSAULT</td>\n",
       "      <td>NON-AGGRAVATED</td>\n",
       "      <td>APARTMENT</td>\n",
       "      <td>False</td>\n",
       "      <td>False</td>\n",
       "      <td>...</td>\n",
       "      <td>22.0</td>\n",
       "      <td>56.0</td>\n",
       "      <td>02</td>\n",
       "      <td>1143770.0</td>\n",
       "      <td>1874726.0</td>\n",
       "      <td>2020</td>\n",
       "      <td>03/28/2020 03:47:02 PM</td>\n",
       "      <td>41.812274</td>\n",
       "      <td>-87.748177</td>\n",
       "      <td>(41.81227369, -87.748176594)</td>\n",
       "    </tr>\n",
       "    <tr>\n",
       "      <th>3</th>\n",
       "      <td>12019692</td>\n",
       "      <td>JD197444</td>\n",
       "      <td>01/01/2020 12:00:00 AM</td>\n",
       "      <td>032XX N LINCOLN AVE</td>\n",
       "      <td>1153</td>\n",
       "      <td>DECEPTIVE PRACTICE</td>\n",
       "      <td>FINANCIAL IDENTITY THEFT OVER $ 300</td>\n",
       "      <td>APARTMENT</td>\n",
       "      <td>False</td>\n",
       "      <td>False</td>\n",
       "      <td>...</td>\n",
       "      <td>47.0</td>\n",
       "      <td>6.0</td>\n",
       "      <td>11</td>\n",
       "      <td>1164983.0</td>\n",
       "      <td>1921507.0</td>\n",
       "      <td>2020</td>\n",
       "      <td>04/01/2020 03:50:17 PM</td>\n",
       "      <td>41.940222</td>\n",
       "      <td>-87.669039</td>\n",
       "      <td>(41.940221932, -87.669039008)</td>\n",
       "    </tr>\n",
       "    <tr>\n",
       "      <th>4</th>\n",
       "      <td>12036792</td>\n",
       "      <td>JD216459</td>\n",
       "      <td>01/01/2020 12:00:00 AM</td>\n",
       "      <td>072XX S WHIPPLE ST</td>\n",
       "      <td>1154</td>\n",
       "      <td>DECEPTIVE PRACTICE</td>\n",
       "      <td>FINANCIAL IDENTITY THEFT $300 AND UNDER</td>\n",
       "      <td>RESIDENCE</td>\n",
       "      <td>False</td>\n",
       "      <td>False</td>\n",
       "      <td>...</td>\n",
       "      <td>18.0</td>\n",
       "      <td>66.0</td>\n",
       "      <td>11</td>\n",
       "      <td>1157290.0</td>\n",
       "      <td>1856526.0</td>\n",
       "      <td>2020</td>\n",
       "      <td>04/29/2020 03:53:17 PM</td>\n",
       "      <td>41.762067</td>\n",
       "      <td>-87.699077</td>\n",
       "      <td>(41.762066981, -87.699077348)</td>\n",
       "    </tr>\n",
       "  </tbody>\n",
       "</table>\n",
       "<p>5 rows × 22 columns</p>\n",
       "</div>"
      ],
      "text/plain": [
       "         ID Case Number                    Date                  Block  IUCR  \\\n",
       "0  12016034    JD193556  01/01/2020 12:00:00 AM  018XX N WINNEBAGO AVE  1153   \n",
       "1  12220321    JD430436  01/01/2020 12:00:00 AM     091XX S DREXEL AVE  1752   \n",
       "2  12013828    JD191019  01/01/2020 12:00:00 AM   044XX S LAVERGNE AVE  0281   \n",
       "3  12019692    JD197444  01/01/2020 12:00:00 AM    032XX N LINCOLN AVE  1153   \n",
       "4  12036792    JD216459  01/01/2020 12:00:00 AM     072XX S WHIPPLE ST  1154   \n",
       "\n",
       "                 Primary Type  \\\n",
       "0          DECEPTIVE PRACTICE   \n",
       "1  OFFENSE INVOLVING CHILDREN   \n",
       "2     CRIMINAL SEXUAL ASSAULT   \n",
       "3          DECEPTIVE PRACTICE   \n",
       "4          DECEPTIVE PRACTICE   \n",
       "\n",
       "                                         Description Location Description  \\\n",
       "0                FINANCIAL IDENTITY THEFT OVER $ 300            APARTMENT   \n",
       "1  AGGRAVATED CRIMINAL SEXUAL ABUSE BY FAMILY MEMBER            RESIDENCE   \n",
       "2                                     NON-AGGRAVATED            APARTMENT   \n",
       "3                FINANCIAL IDENTITY THEFT OVER $ 300            APARTMENT   \n",
       "4            FINANCIAL IDENTITY THEFT $300 AND UNDER            RESIDENCE   \n",
       "\n",
       "   Arrest  Domestic  ...  Ward  Community Area  FBI Code  X Coordinate  \\\n",
       "0   False     False  ...  32.0            22.0        11     1160263.0   \n",
       "1   False      True  ...   8.0            47.0        17     1184157.0   \n",
       "2   False     False  ...  22.0            56.0        02     1143770.0   \n",
       "3   False     False  ...  47.0             6.0        11     1164983.0   \n",
       "4   False     False  ...  18.0            66.0        11     1157290.0   \n",
       "\n",
       "  Y Coordinate  Year              Updated On   Latitude  Longitude  \\\n",
       "0    1912391.0  2020  03/26/2020 03:45:12 PM  41.915306 -87.686639   \n",
       "1    1844395.0  2020  12/19/2020 03:45:59 PM  41.728192 -87.600985   \n",
       "2    1874726.0  2020  03/28/2020 03:47:02 PM  41.812274 -87.748177   \n",
       "3    1921507.0  2020  04/01/2020 03:50:17 PM  41.940222 -87.669039   \n",
       "4    1856526.0  2020  04/29/2020 03:53:17 PM  41.762067 -87.699077   \n",
       "\n",
       "                        Location  \n",
       "0  (41.915306069, -87.686639247)  \n",
       "1  (41.728192429, -87.600985433)  \n",
       "2   (41.81227369, -87.748176594)  \n",
       "3  (41.940221932, -87.669039008)  \n",
       "4  (41.762066981, -87.699077348)  \n",
       "\n",
       "[5 rows x 22 columns]"
      ]
     },
     "execution_count": 8,
     "metadata": {},
     "output_type": "execute_result"
    }
   ],
   "source": [
    "#establishing path to the csv file\n",
    "csvpath = os.path.join(\"clean_crime_df.csv\")\n",
    "\n",
    "#creating DataFrame of csv data\n",
    "crime_df = pd.read_csv(csvpath)\n",
    "\n",
    "#printing DataFrame info\n",
    "crime_df.head()"
   ]
  },
  {
   "cell_type": "code",
   "execution_count": 9,
   "metadata": {
    "pycharm": {
     "name": "#%%\n"
    }
   },
   "outputs": [],
   "source": [
    "crime_data = pd.read_csv(\"clean_crime_df.csv\", dtype=\"object\", encoding=\"utf-8\"),\n"
   ]
  },
  {
   "cell_type": "code",
   "execution_count": 10,
   "metadata": {
    "pycharm": {
     "name": "#%%\n"
    }
   },
   "outputs": [
    {
     "data": {
      "application/vnd.jupyter.widget-view+json": {
       "model_id": "4fb68b6d6012439484aab70c0a7d6084",
       "version_major": 2,
       "version_minor": 0
      },
      "text/plain": [
       "Figure(layout=FigureLayout(height='420px'))"
      ]
     },
     "metadata": {},
     "output_type": "display_data"
    }
   ],
   "source": [
    "# Configure gmaps with API key\n",
    "gmaps.configure(api_key=gkey)\n",
    "fig = gmaps.figure()\n",
    "fig"
   ]
  },
  {
   "cell_type": "code",
   "execution_count": 11,
   "metadata": {
    "pycharm": {
     "name": "#%%\n"
    }
   },
   "outputs": [],
   "source": [
    "locations = pd.read_csv(\"clean_crime_df.csv\", usecols= [\"Location\"])\n"
   ]
  },
  {
   "cell_type": "code",
   "execution_count": 11,
   "metadata": {
    "pycharm": {
     "name": "#%%\n"
    }
   },
   "outputs": [],
   "source": [
    "\n",
    "\n"
   ]
  },
  {
   "cell_type": "code",
   "execution_count": 11,
   "metadata": {
    "pycharm": {
     "name": "#%%\n"
    }
   },
   "outputs": [],
   "source": []
  },
  {
   "cell_type": "code",
   "execution_count": 11,
   "metadata": {
    "pycharm": {
     "name": "#%%\n"
    }
   },
   "outputs": [],
   "source": []
  },
  {
   "cell_type": "code",
   "execution_count": null,
   "outputs": [],
   "source": [],
   "metadata": {
    "collapsed": false,
    "pycharm": {
     "name": "#%%\n"
    }
   }
  },
  {
   "cell_type": "code",
   "execution_count": null,
   "metadata": {
    "pycharm": {
     "name": "#%%\n"
    }
   },
   "outputs": [],
   "source": []
  }
 ],
 "metadata": {
  "kernelspec": {
   "display_name": "Python 3 (ipykernel)",
   "language": "python",
   "name": "python3"
  },
  "language_info": {
   "codemirror_mode": {
    "name": "ipython",
    "version": 3
   },
   "file_extension": ".py",
   "mimetype": "text/x-python",
   "name": "python",
   "nbconvert_exporter": "python",
   "pygments_lexer": "ipython3",
   "version": "3.8.9"
  }
 },
 "nbformat": 4,
 "nbformat_minor": 1
}